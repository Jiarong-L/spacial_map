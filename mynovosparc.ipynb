{
 "cells": [
  {
   "cell_type": "code",
   "execution_count": 1,
   "metadata": {},
   "outputs": [],
   "source": [
    "import numpy as np\n",
    "import pandas as pd\n",
    "import novosparc\n",
    "import matplotlib\n",
    "import matplotlib.pyplot as plt\n",
    "from scipy.spatial.distance import cdist\n",
    "%matplotlib inline"
   ]
  },
  {
   "cell_type": "code",
   "execution_count": 2,
   "metadata": {},
   "outputs": [],
   "source": [
    "data_path = 'raw/expr_matrix_10day_log_normalized.txt'   # 11566 cells and 2000 genes\n",
    "output_folder = 'out'\n",
    "tissue_path = 'raw/myshape.npy'\n",
    "hvg_path = 'raw/high_variable_genes_10day.txt'\n",
    "\n",
    "location_marker = 'raw/dge_full.txt'"
   ]
  },
  {
   "cell_type": "code",
   "execution_count": null,
   "metadata": {},
   "outputs": [],
   "source": [
    "# load dataset:  expression matrix   col-gene,row-cell\n",
    "dataset = novosparc.io.load_data(data_path)"
   ]
  },
  {
   "cell_type": "code",
   "execution_count": null,
   "metadata": {},
   "outputs": [],
   "source": [
    "dataset.shape"
   ]
  },
  {
   "cell_type": "code",
   "execution_count": null,
   "metadata": {},
   "outputs": [],
   "source": [
    "# just to view gene names and the matrix\n",
    "gene_names = np.asarray(dataset.var.index.tolist())\n",
    "dge = dataset.X"
   ]
  },
  {
   "cell_type": "code",
   "execution_count": null,
   "metadata": {},
   "outputs": [],
   "source": [
    "dge.shape"
   ]
  },
  {
   "cell_type": "code",
   "execution_count": null,
   "metadata": {},
   "outputs": [],
   "source": [
    "# save the set to dataset.raw\n",
    "dataset.raw = dataset\n",
    "# select only genes in hvg_list\n",
    "dataset, hvg = novosparc.pp.subset_to_hvg(dataset, hvg_file = hvg_path) # dataset[:,dataset.var.index.isin(gene_list)], gene_list"
   ]
  },
  {
   "cell_type": "code",
   "execution_count": null,
   "metadata": {},
   "outputs": [],
   "source": [
    "dataset.shape"
   ]
  },
  {
   "cell_type": "code",
   "execution_count": null,
   "metadata": {},
   "outputs": [],
   "source": [
    "# load target space\n",
    "# locations = novosparc.geometry.create_target_space_from_image(tissue_path) #\n",
    "\n",
    "locations = np.load(tissue_path)\n",
    "locations.shape"
   ]
  },
  {
   "cell_type": "code",
   "execution_count": null,
   "metadata": {},
   "outputs": [],
   "source": [
    "# just to check if atlas is correct\n",
    "atlas_path = 'raw/atlas.txt'\n",
    "insitu_genes = np.genfromtxt(atlas_path, usecols=range(29), dtype='str', max_rows=1)\n",
    "plt.figure(figsize=(20,4))\n",
    "for i in range(9):\n",
    "    myimg = np.load('chk/{}.npy'.format(insitu_genes[i].split('.')[0]))\n",
    "    myloc = locations[myimg==1]\n",
    "\n",
    "    plt.subplot(1,9,i+1)\n",
    "    plt.scatter(myloc[:, 0], myloc[:, 1])\n",
    "    plt.title(insitu_genes[i])\n",
    "    plt.axis('off')\n",
    "plt.show()    "
   ]
  },
  {
   "cell_type": "code",
   "execution_count": null,
   "metadata": {},
   "outputs": [],
   "source": [
    "# subsample the locations to save effort -- low resolution now\n",
    "seed = np.random.choice(locations.shape[0], 3000)  ### -------- later to select markers   3000  11566\n",
    "locations = locations[seed, :]\n",
    "locations.shape"
   ]
  },
  {
   "cell_type": "code",
   "execution_count": null,
   "metadata": {},
   "outputs": [],
   "source": [
    "plt.figure(figsize=(6,2))\n",
    "plt.scatter(locations[:, 1], locations[:, 0])\n",
    "plt.show()"
   ]
  },
  {
   "cell_type": "markdown",
   "metadata": {},
   "source": [
    "### Reconstruction\n",
    "https://github.com/rajewsky-lab/novosparc/blob/master/reconstruct_drosophila_embryo_tutorial.ipynb"
   ]
  },
  {
   "cell_type": "code",
   "execution_count": null,
   "metadata": {
    "scrolled": true
   },
   "outputs": [],
   "source": [
    "#Reconstruct the tissue de novo/with marker\n",
    "tissue = novosparc.cm.Tissue(dataset=dataset, locations=locations, output_folder=output_folder)"
   ]
  },
  {
   "cell_type": "code",
   "execution_count": null,
   "metadata": {},
   "outputs": [],
   "source": [
    "atlas_path = 'raw/atlas.txt'\n",
    "insitu_genes = np.genfromtxt(atlas_path, usecols=range(29), dtype='str', max_rows=1)"
   ]
  },
  {
   "cell_type": "code",
   "execution_count": null,
   "metadata": {},
   "outputs": [],
   "source": [
    "# find indices of marker genes in dge dataset\n",
    "gene_names = tissue.gene_names\n",
    "markers_in_sc = np.array([], dtype='int')\n",
    "markers_in_sc_name = []\n",
    "for marker in insitu_genes:\n",
    "    marker_index = np.where(gene_names == marker)[0]\n",
    "    if len(marker_index) > 0:\n",
    "        markers_in_sc = np.append(markers_in_sc, marker_index[0])\n",
    "        markers_in_sc_name.append(marker)"
   ]
  },
  {
   "cell_type": "code",
   "execution_count": null,
   "metadata": {},
   "outputs": [],
   "source": [
    "# load atlas matrix\n",
    "# make sure atlas_matrix.shape[1]==tissue.dge[:, markers_in_sc].shape[1] (or dataset.dge)\n",
    "# also don't forget to extract points that used in locations only  (seed)\n",
    "atlas_matrix = pd.read_csv(atlas_path,sep='\\t')\n",
    "atlas_matrix = atlas_matrix[markers_in_sc_name]\n",
    "atlas_matrix = atlas_matrix.to_numpy()\n",
    "atlas_matrix = atlas_matrix[seed,:]\n",
    "atlas_matrix.shape"
   ]
  },
  {
   "cell_type": "code",
   "execution_count": null,
   "metadata": {},
   "outputs": [],
   "source": [
    "tissue.setup_reconstruction(markers_to_use=markers_in_sc, insitu_matrix=atlas_matrix, num_neighbors_s=5, num_neighbors_t=5)"
   ]
  },
  {
   "cell_type": "code",
   "execution_count": null,
   "metadata": {},
   "outputs": [],
   "source": [
    "tissue.reconstruct(alpha_linear=0.5, epsilon=5e-3) ########调试alpha_linear，似乎是marker gene 的重要程度[0-1]，0是不加marker"
   ]
  },
  {
   "cell_type": "code",
   "execution_count": null,
   "metadata": {},
   "outputs": [],
   "source": [
    "tissue.calculate_spatially_informative_genes()"
   ]
  },
  {
   "cell_type": "code",
   "execution_count": null,
   "metadata": {},
   "outputs": [],
   "source": [
    "sdge_hvg = tissue.sdge"
   ]
  },
  {
   "cell_type": "code",
   "execution_count": null,
   "metadata": {},
   "outputs": [],
   "source": [
    "sdge = tissue.calculate_sdge_for_all_genes()"
   ]
  },
  {
   "cell_type": "code",
   "execution_count": null,
   "metadata": {},
   "outputs": [],
   "source": [
    "# plot some genes\n",
    "gene_list_to_plot = [\n",
    "    'SMED30011970', #eye and head, dd_4427\n",
    "    'SMED30030642', #pharynx\n",
    "    'SMED30001882',#brain and phx\n",
    "    'SMED30005457', #super strong; big cells around the gut\n",
    "    'SMED30000013', #gut\n",
    "    'SMED30010123', #protonephridia\n",
    "    'SMED30016244', #secretory cells?\n",
    "    'SMED30011490' #epithelium\n",
    "]"
   ]
  },
  {
   "cell_type": "code",
   "execution_count": null,
   "metadata": {},
   "outputs": [],
   "source": [
    "gene_dict = {\n",
    "    'SMED30011970':'eye and head',\n",
    "    'SMED30030642':'pharynx',\n",
    "    'SMED30001882':'brain and phx',\n",
    "    'SMED30005457':'big cells-gut(++)',\n",
    "    'SMED30000013':'gut',\n",
    "    'SMED30010123':'protonephridia',\n",
    "    'SMED30016244':'secretory cells',\n",
    "    'SMED30011490':'epithelium'\n",
    "}"
   ]
  },
  {
   "cell_type": "code",
   "execution_count": null,
   "metadata": {},
   "outputs": [],
   "source": [
    "mylen=len(gene_list_to_plot)\n",
    "plt.figure(figsize=(2*mylen,6))\n",
    "for i in range(len(gene_list_to_plot)):\n",
    "        plt.subplot(1,mylen,i+1)\n",
    "        plt.scatter(locations[:, 0], locations[:, 1], c=sdge[np.argwhere(gene_names == gene_list_to_plot[i])[0], :].flatten(), s=1)\n",
    "        plt.title(gene_dict[gene_list_to_plot[i]])\n",
    "        plt.axis('off')\n",
    "plt.show()"
   ]
  },
  {
   "cell_type": "code",
   "execution_count": null,
   "metadata": {},
   "outputs": [],
   "source": []
  },
  {
   "cell_type": "code",
   "execution_count": null,
   "metadata": {},
   "outputs": [],
   "source": []
  },
  {
   "cell_type": "code",
   "execution_count": null,
   "metadata": {},
   "outputs": [],
   "source": []
  },
  {
   "cell_type": "code",
   "execution_count": null,
   "metadata": {},
   "outputs": [],
   "source": []
  },
  {
   "cell_type": "code",
   "execution_count": null,
   "metadata": {},
   "outputs": [],
   "source": []
  },
  {
   "cell_type": "code",
   "execution_count": null,
   "metadata": {},
   "outputs": [],
   "source": []
  },
  {
   "cell_type": "code",
   "execution_count": null,
   "metadata": {},
   "outputs": [],
   "source": []
  }
 ],
 "metadata": {
  "kernelspec": {
   "display_name": "Python 3",
   "language": "python",
   "name": "python3"
  },
  "language_info": {
   "codemirror_mode": {
    "name": "ipython",
    "version": 3
   },
   "file_extension": ".py",
   "mimetype": "text/x-python",
   "name": "python",
   "nbconvert_exporter": "python",
   "pygments_lexer": "ipython3",
   "version": "3.7.4"
  }
 },
 "nbformat": 4,
 "nbformat_minor": 2
}
