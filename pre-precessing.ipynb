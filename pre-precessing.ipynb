{
 "cells": [
  {
   "cell_type": "code",
   "execution_count": 1,
   "metadata": {},
   "outputs": [],
   "source": [
    "# locations = np.array([(y, x) for x in range(body_img.shape[0]) for y in range(body_img.shape[1]) if body_img[x][y] == 0])\n",
    "# np.save('raw/myshape',locations)\n",
    "# image shaped as "
   ]
  },
  {
   "cell_type": "code",
   "execution_count": 2,
   "metadata": {},
   "outputs": [],
   "source": [
    "import cv2\n",
    "import pandas as pd\n",
    "import numpy as np\n",
    "import matplotlib.pyplot as plt\n",
    "from skimage import morphology\n",
    "import imageio\n",
    "from myfunc import clip_background,cv2plot,set_borders_zero,resize_by_ratio,morph_line\n",
    "%matplotlib inline"
   ]
  },
  {
   "cell_type": "code",
   "execution_count": 3,
   "metadata": {},
   "outputs": [],
   "source": [
    "def extract_body(body_shape,treashhold=0.5,border_width = 3,blurloop=5):\n",
    "    body_shape = np.clip(body_shape, 0, 1)\n",
    "    body_shape = np.ceil(body_shape-treashhold)\n",
    "    body_shape = set_borders_zero(body_shape,border_width)\n",
    "    \n",
    "    kernel = np.ones((30, 30), np.uint8)\n",
    "    d_im = cv2.dilate(body_shape, kernel, iterations=1)   #b2 已经二值化\n",
    "    d_im = morphology.skeletonize(d_im).astype(np.float32)\n",
    "    mymask = np.zeros((d_im.shape[0]+2,d_im.shape[1]+2))\n",
    "    mymask = np.mat(mymask,np.uint8)\n",
    "    d_im = cv2.floodFill(d_im,mymask,(0,0),1)[1] #图像左上角开始，大背景填充1\n",
    "    for i in range(blurloop):\n",
    "        d_im = cv2.medianBlur(d_im, 5)\n",
    "        d_im = cv2.GaussianBlur(d_im,(5,5),0)\n",
    "    d_im = np.ceil(d_im-0.5)    \n",
    "    return d_im"
   ]
  },
  {
   "cell_type": "code",
   "execution_count": 4,
   "metadata": {},
   "outputs": [],
   "source": [
    "def load_img(img_path,resize_shape,treashhold = 0.5,denoise1 = 5,denoise2 = 3):\n",
    "    raw = cv2.imread(img_path)\n",
    "    raw = np.array(raw, dtype=np.float32) / 255.0\n",
    "    (b, g, r) = cv2.split(raw)\n",
    "    fish_gray = 1 * g - b - r\n",
    "    fish_img = np.clip(fish_gray, 0, 1)\n",
    "    fish_img = np.ceil(fish_img-treashhold)\n",
    "    body_img = extract_body(b)\n",
    "    body_img,fish_img = clip_background(body_img,fish_img,denoise1 = denoise1,denoise2 = denoise2)\n",
    "    \n",
    "    fish_img = cv2.resize(fish_img, (resize_shape[1],resize_shape[0]), interpolation = cv2.INTER_NEAREST)\n",
    "    body_img = cv2.resize(body_img, (resize_shape[1],resize_shape[0]), interpolation = cv2.INTER_NEAREST)\n",
    "    \n",
    "    return fish_img,body_img"
   ]
  },
  {
   "cell_type": "code",
   "execution_count": 5,
   "metadata": {},
   "outputs": [],
   "source": [
    "def load_target_shape(tar_img_path,threshold = 0.4,denoise1 = 5,denoise2 = 3):\n",
    "    tar = cv2.imread(tar_img_path,0)            \n",
    "    tar = tar/255\n",
    "    tar = cv2.threshold(tar,threshold,1,cv2.THRESH_BINARY)[1]\n",
    "    tar,_ = clip_background(tar,[],denoise1 = denoise1,denoise2 = denoise2)\n",
    "    return tar"
   ]
  },
  {
   "cell_type": "code",
   "execution_count": 6,
   "metadata": {},
   "outputs": [],
   "source": [
    "def transformation(fish_img,body_img,tar_img):\n",
    "           \n",
    "#     # extract skeleton -- marked as 1   TODO: 把涡虫摆正拉直 写个def\n",
    "#     body_skl = morphology.skeletonize(body_img*-1+1).astype(np.float32)\n",
    "#     tar_skl = morphology.skeletonize(tar_img*-1+1).astype(np.float32)\n",
    "       \n",
    "    new_body_img = np.ndarray(tar_img.shape)\n",
    "    new_fish_img = np.ndarray(tar_img.shape)\n",
    "    \n",
    "    for i in range(len(tar_img)):\n",
    "        morph,submorph = morph_line(body_img[i],fish_img[i],tar_img[i])\n",
    "        new_body_img[i,:]=morph\n",
    "        new_fish_img[i,:]=submorph\n",
    "        \n",
    "    return new_body_img,new_fish_img"
   ]
  },
  {
   "cell_type": "markdown",
   "metadata": {},
   "source": [
    "### workflow"
   ]
  },
  {
   "cell_type": "code",
   "execution_count": 7,
   "metadata": {},
   "outputs": [],
   "source": [
    "filelist = pd.read_csv('raw/meta.txt',header=None)\n",
    "filelist = filelist.values.squeeze().tolist()"
   ]
  },
  {
   "cell_type": "code",
   "execution_count": 8,
   "metadata": {
    "collapsed": true
   },
   "outputs": [
    {
     "name": "stderr",
     "output_type": "stream",
     "text": [
      "Lossy conversion from float64 to uint8. Range [0, 1]. Convert image to uint8 prior to saving to suppress this warning.\n",
      "Lossy conversion from float64 to uint8. Range [0, 1]. Convert image to uint8 prior to saving to suppress this warning.\n",
      "Lossy conversion from float64 to uint8. Range [0, 1]. Convert image to uint8 prior to saving to suppress this warning.\n",
      "Lossy conversion from float64 to uint8. Range [0, 1]. Convert image to uint8 prior to saving to suppress this warning.\n",
      "Lossy conversion from float64 to uint8. Range [0, 1]. Convert image to uint8 prior to saving to suppress this warning.\n",
      "Lossy conversion from float64 to uint8. Range [0, 1]. Convert image to uint8 prior to saving to suppress this warning.\n",
      "Lossy conversion from float64 to uint8. Range [0, 1]. Convert image to uint8 prior to saving to suppress this warning.\n",
      "Lossy conversion from float64 to uint8. Range [0, 1]. Convert image to uint8 prior to saving to suppress this warning.\n",
      "Lossy conversion from float64 to uint8. Range [0, 1]. Convert image to uint8 prior to saving to suppress this warning.\n",
      "Lossy conversion from float64 to uint8. Range [0, 1]. Convert image to uint8 prior to saving to suppress this warning.\n",
      "Lossy conversion from float64 to uint8. Range [0, 1]. Convert image to uint8 prior to saving to suppress this warning.\n",
      "Lossy conversion from float64 to uint8. Range [0, 1]. Convert image to uint8 prior to saving to suppress this warning.\n",
      "Lossy conversion from float64 to uint8. Range [0, 1]. Convert image to uint8 prior to saving to suppress this warning.\n",
      "Lossy conversion from float64 to uint8. Range [0, 1]. Convert image to uint8 prior to saving to suppress this warning.\n",
      "Lossy conversion from float64 to uint8. Range [0, 1]. Convert image to uint8 prior to saving to suppress this warning.\n",
      "Lossy conversion from float64 to uint8. Range [0, 1]. Convert image to uint8 prior to saving to suppress this warning.\n",
      "Lossy conversion from float64 to uint8. Range [0, 1]. Convert image to uint8 prior to saving to suppress this warning.\n",
      "Lossy conversion from float64 to uint8. Range [0, 1]. Convert image to uint8 prior to saving to suppress this warning.\n",
      "Lossy conversion from float64 to uint8. Range [0, 1]. Convert image to uint8 prior to saving to suppress this warning.\n",
      "Lossy conversion from float64 to uint8. Range [0, 1]. Convert image to uint8 prior to saving to suppress this warning.\n",
      "Lossy conversion from float64 to uint8. Range [0, 1]. Convert image to uint8 prior to saving to suppress this warning.\n",
      "Lossy conversion from float64 to uint8. Range [0, 1]. Convert image to uint8 prior to saving to suppress this warning.\n",
      "Lossy conversion from float64 to uint8. Range [0, 1]. Convert image to uint8 prior to saving to suppress this warning.\n",
      "Lossy conversion from float64 to uint8. Range [0, 1]. Convert image to uint8 prior to saving to suppress this warning.\n",
      "Lossy conversion from float64 to uint8. Range [0, 1]. Convert image to uint8 prior to saving to suppress this warning.\n",
      "Lossy conversion from float64 to uint8. Range [0, 1]. Convert image to uint8 prior to saving to suppress this warning.\n",
      "Lossy conversion from float64 to uint8. Range [0, 1]. Convert image to uint8 prior to saving to suppress this warning.\n",
      "Lossy conversion from float64 to uint8. Range [0, 1]. Convert image to uint8 prior to saving to suppress this warning.\n",
      "Lossy conversion from float64 to uint8. Range [0, 1]. Convert image to uint8 prior to saving to suppress this warning.\n"
     ]
    }
   ],
   "source": [
    "atlas_dict = {}\n",
    "\n",
    "# load target space\n",
    "locations = np.load('raw/myshape.npy')\n",
    "\n",
    "# Image processing & atlas generation\n",
    "for filename in filelist:\n",
    "    genename = filename.split('.')[0]\n",
    "    img_path = 'raw/{}'.format(filename)\n",
    "    tar_img_path = 'raw/myshape.jpg'  #SMED30017714\n",
    "    \n",
    "    tar_img = load_target_shape(tar_img_path)\n",
    "    fish_img,body_img = load_img(img_path,tar_img.shape,treashhold = 0.5)\n",
    "    new_body_img,new_fish_img = transformation(fish_img,body_img,tar_img)\n",
    "    chk = new_body_img+new_fish_img\n",
    "    imageio.imsave('chk/{}.jpg'.format(filename),chk,format='jpg')\n",
    "    \n",
    "    # atlas generation\n",
    "    atlas = [int(new_fish_img[loc[1]][loc[0]]) for loc in locations]\n",
    "    np.save('chk/{}'.format(genename),atlas)\n",
    "    atlas_dict[genename] = atlas\n",
    "    \n",
    "atlas_df = pd.DataFrame(atlas_dict)    \n",
    "atlas_df.to_csv('raw/atlas.txt', sep='\\t', index=False)    "
   ]
  },
  {
   "cell_type": "markdown",
   "metadata": {},
   "source": [
    "### generate target space and atlas\n",
    "Target space -- (y,x) collection of the body shape  ----- save as .npy   \n",
    "Atlas -- for points in target space, show gene's expression level, 1 col for 1 gene, header as gene_name ---- save as txt/csv??"
   ]
  },
  {
   "cell_type": "code",
   "execution_count": 9,
   "metadata": {},
   "outputs": [],
   "source": [
    "# Target space --- currently saved as 'raw/myshape.npy'\n",
    "# locations = np.array([(y, x) for x in range(body_img.shape[0]) for y in range(body_img.shape[1]) if body_img[x][y] == 0])\n",
    "\n",
    "# If pos in Target space shows expression (1), label as 1\n",
    "# atlas = [int(new_fish_img[loc[1]][loc[0]]) for loc in locations]\n"
   ]
  },
  {
   "cell_type": "code",
   "execution_count": null,
   "metadata": {},
   "outputs": [],
   "source": []
  },
  {
   "cell_type": "code",
   "execution_count": null,
   "metadata": {},
   "outputs": [],
   "source": []
  },
  {
   "cell_type": "code",
   "execution_count": null,
   "metadata": {},
   "outputs": [],
   "source": []
  },
  {
   "cell_type": "code",
   "execution_count": null,
   "metadata": {},
   "outputs": [],
   "source": []
  }
 ],
 "metadata": {
  "kernelspec": {
   "display_name": "Python 3",
   "language": "python",
   "name": "python3"
  },
  "language_info": {
   "codemirror_mode": {
    "name": "ipython",
    "version": 3
   },
   "file_extension": ".py",
   "mimetype": "text/x-python",
   "name": "python",
   "nbconvert_exporter": "python",
   "pygments_lexer": "ipython3",
   "version": "3.7.4"
  }
 },
 "nbformat": 4,
 "nbformat_minor": 4
}
