{
 "cells": [
  {
   "cell_type": "code",
   "execution_count": null,
   "metadata": {},
   "outputs": [],
   "source": [
    "import numpy as np\n",
    "import pandas as pd\n",
    "import novosparc\n",
    "import matplotlib\n",
    "import matplotlib.pyplot as plt\n",
    "from scipy.spatial.distance import cdist\n",
    "from mpl_toolkits.mplot3d import Axes3D\n",
    "%matplotlib inline"
   ]
  },
  {
   "cell_type": "code",
   "execution_count": null,
   "metadata": {},
   "outputs": [],
   "source": [
    "nn = 5\n",
    "alpha_linear = 0.8  \n",
    "cell_nb = 3000\n",
    "figsize = 50\n",
    "alpha = 0.5 # plt opacity\n",
    "hvg_path = 'raw/high_variable_genes_10day.txt'"
   ]
  },
  {
   "cell_type": "markdown",
   "metadata": {},
   "source": [
    "### load & process dataset"
   ]
  },
  {
   "cell_type": "code",
   "execution_count": null,
   "metadata": {},
   "outputs": [],
   "source": [
    "# data_path = 'raw/expr_matrix_10day_log_normalized.txt'   # 11566 cells and 2000 genes\n",
    "# data_path = 'SCTransformed_10day_3000var.genes_pesudocell.txt'\n",
    "data_path = 'raw/SCTransform_10day_pesudocell_matrix.txt'\n",
    "\n",
    "\n",
    "# data_path = 'raw/zero_or_one.txt'  # DGE in the form of 0 or 1\n",
    "\n",
    "output_folder = 'out'"
   ]
  },
  {
   "cell_type": "code",
   "execution_count": null,
   "metadata": {},
   "outputs": [],
   "source": [
    "# load dataset:  expression matrix   col-gene,row-cell\n",
    "dataset = novosparc.io.load_data(data_path)\n",
    "dataset.shape"
   ]
  },
  {
   "cell_type": "code",
   "execution_count": null,
   "metadata": {},
   "outputs": [],
   "source": [
    "# just to view gene names and the matrix\n",
    "gene_names = np.asarray(dataset.var.index.tolist())"
   ]
  },
  {
   "cell_type": "code",
   "execution_count": null,
   "metadata": {},
   "outputs": [],
   "source": [
    "# save the set to dataset.raw\n",
    "dataset.raw = dataset\n",
    "# select only genes in hvg_list\n",
    "dataset, hvg = novosparc.pp.subset_to_hvg(dataset, hvg_file = hvg_path) # dataset[:,dataset.var.index.isin(gene_list)], gene_list\n",
    "dataset.shape"
   ]
  },
  {
   "cell_type": "code",
   "execution_count": null,
   "metadata": {},
   "outputs": [],
   "source": []
  },
  {
   "cell_type": "markdown",
   "metadata": {},
   "source": [
    "### load fake target space (location_3d)"
   ]
  },
  {
   "cell_type": "code",
   "execution_count": null,
   "metadata": {},
   "outputs": [],
   "source": [
    "location_3d = np.load('raw/fake_3d_tissue.npy')"
   ]
  },
  {
   "cell_type": "code",
   "execution_count": null,
   "metadata": {},
   "outputs": [],
   "source": [
    "cell_nb = cell_nb\n",
    "seed = np.random.choice(location_3d.shape[0], cell_nb,replace=False)\n",
    "location_3d = location_3d[seed, :]"
   ]
  },
  {
   "cell_type": "code",
   "execution_count": null,
   "metadata": {},
   "outputs": [],
   "source": [
    "fig = plt.figure(figsize=(5,5))\n",
    "ax = Axes3D(fig)\n",
    "ax.set_xlim([0,figsize])\n",
    "ax.set_ylim([0,figsize])\n",
    "ax.set_zlim([0,figsize])\n",
    "x = location_3d[:,0]\n",
    "y = location_3d[:,1]\n",
    "z = location_3d[:,2]\n",
    "ax.scatter(x,y,z,s=1)\n",
    "plt.show()"
   ]
  },
  {
   "cell_type": "code",
   "execution_count": null,
   "metadata": {},
   "outputs": [],
   "source": []
  },
  {
   "cell_type": "markdown",
   "metadata": {},
   "source": [
    "### load epi (border_3d)"
   ]
  },
  {
   "cell_type": "code",
   "execution_count": null,
   "metadata": {},
   "outputs": [],
   "source": [
    "atlas_epi = np.load('raw/epi_33119_atlas.npy')\n",
    "atlas_ukn = np.load('raw/ukn_04921_atlas.npy')"
   ]
  },
  {
   "cell_type": "code",
   "execution_count": null,
   "metadata": {},
   "outputs": [],
   "source": [
    "atlas_matrix = np.concatenate((atlas_epi, atlas_ukn), axis=1)\n",
    "print(len(atlas_matrix[:,0]),len(atlas_matrix[:,1]))\n",
    "print(sum(atlas_matrix[:,0]),sum(atlas_matrix[:,1]))"
   ]
  },
  {
   "cell_type": "code",
   "execution_count": null,
   "metadata": {},
   "outputs": [],
   "source": [
    "atlas_matrix = atlas_matrix[seed]\n",
    "print(sum(atlas_matrix[:,0]),sum(atlas_matrix[:,1]))"
   ]
  },
  {
   "cell_type": "code",
   "execution_count": null,
   "metadata": {},
   "outputs": [],
   "source": [
    "### plot ukn\n",
    "inner_loc = np.where(atlas_matrix[:,1].squeeze()!=0)\n",
    "plt.figure(figsize=(3,1))\n",
    "plt.scatter(location_3d[inner_loc, 1], location_3d[inner_loc, 0],s=1)\n",
    "plt.title('inner_SMED30004921',fontsize = 'medium')\n",
    "plt.xlim([-2,60])\n",
    "plt.ylim([-2,32])\n",
    "plt.show()"
   ]
  },
  {
   "cell_type": "code",
   "execution_count": null,
   "metadata": {},
   "outputs": [],
   "source": [
    "fig = plt.figure(figsize=(5,5))\n",
    "ax = Axes3D(fig)\n",
    "ax.set_xlim([0,figsize])\n",
    "ax.set_ylim([0,figsize])\n",
    "ax.set_zlim([0,figsize])\n",
    "x = location_3d[inner_loc,0]\n",
    "y = location_3d[inner_loc,1]\n",
    "z = location_3d[inner_loc,2]\n",
    "ax.scatter(x,y,z,s=1,alpha=alpha)\n",
    "plt.title('inner_SMED30004921',fontsize = 'xx-large')\n",
    "plt.show()\n",
    "print(np.max(x),np.min(x),np.max(y),np.min(y))"
   ]
  },
  {
   "cell_type": "code",
   "execution_count": null,
   "metadata": {},
   "outputs": [],
   "source": [
    "### plot ukn\n",
    "inner_loc = np.where(atlas_matrix[:,0].squeeze()!=0)\n",
    "plt.figure(figsize=(3,1))\n",
    "plt.scatter(location_3d[inner_loc, 1], location_3d[inner_loc, 0],s=1)\n",
    "plt.title('epi_SMED30033119',fontsize = 'medium')\n",
    "plt.xlim([-2,60])\n",
    "plt.ylim([-2,32])\n",
    "plt.show()"
   ]
  },
  {
   "cell_type": "code",
   "execution_count": null,
   "metadata": {},
   "outputs": [],
   "source": [
    "fig = plt.figure(figsize=(5,5))\n",
    "ax = Axes3D(fig)\n",
    "ax.set_xlim([0,figsize])\n",
    "ax.set_ylim([0,figsize])\n",
    "ax.set_zlim([0,figsize])\n",
    "x = location_3d[inner_loc,0]\n",
    "y = location_3d[inner_loc,1]\n",
    "z = location_3d[inner_loc,2]\n",
    "ax.scatter(x,y,z,s=1,alpha=alpha)\n",
    "plt.title('epi_SMED30033119',fontsize = 'xx-large')\n",
    "plt.show()\n",
    "print(np.max(x),np.min(x),np.max(y),np.min(y))"
   ]
  },
  {
   "cell_type": "code",
   "execution_count": null,
   "metadata": {},
   "outputs": [],
   "source": []
  },
  {
   "cell_type": "code",
   "execution_count": null,
   "metadata": {},
   "outputs": [],
   "source": []
  },
  {
   "cell_type": "markdown",
   "metadata": {},
   "source": [
    "### Reconstruction\n",
    "https://github.com/rajewsky-lab/novosparc/blob/master/reconstruct_drosophila_embryo_tutorial.ipynb"
   ]
  },
  {
   "cell_type": "code",
   "execution_count": null,
   "metadata": {},
   "outputs": [],
   "source": [
    "#Reconstruct the tissue de novo/with marker\n",
    "tissue = novosparc.cm.Tissue(dataset=dataset, locations=location_3d, output_folder=output_folder)\n",
    "insitu_genes = ['SMED30033119','SMED30004921']"
   ]
  },
  {
   "cell_type": "code",
   "execution_count": null,
   "metadata": {},
   "outputs": [],
   "source": [
    "gene_names = tissue.gene_names\n",
    "markers_in_sc = [np.where(gene_names == item)[0][0] for item in insitu_genes]\n",
    "markers_in_sc"
   ]
  },
  {
   "cell_type": "code",
   "execution_count": null,
   "metadata": {},
   "outputs": [],
   "source": [
    "tissue.setup_reconstruction(markers_to_use=markers_in_sc, insitu_matrix=atlas_matrix, num_neighbors_s=nn, num_neighbors_t=nn)"
   ]
  },
  {
   "cell_type": "code",
   "execution_count": null,
   "metadata": {},
   "outputs": [],
   "source": [
    "tissue.reconstruct(alpha_linear=alpha_linear, epsilon=5e-3)"
   ]
  },
  {
   "cell_type": "code",
   "execution_count": null,
   "metadata": {},
   "outputs": [],
   "source": [
    "import time\n",
    "t1 = time.time()\n",
    "tissue.calculate_spatially_informative_genes()\n",
    "t2 = time.time()\n",
    "print(t2-t1)"
   ]
  },
  {
   "cell_type": "code",
   "execution_count": null,
   "metadata": {},
   "outputs": [],
   "source": []
  },
  {
   "cell_type": "markdown",
   "metadata": {},
   "source": [
    "### plot result"
   ]
  },
  {
   "cell_type": "code",
   "execution_count": null,
   "metadata": {},
   "outputs": [],
   "source": [
    "sdge_hvg = tissue.sdge\n",
    "sdge = tissue.calculate_sdge_for_all_genes()\n",
    "sdge.shape"
   ]
  },
  {
   "cell_type": "code",
   "execution_count": null,
   "metadata": {},
   "outputs": [],
   "source": [
    "gene_dict = {\n",
    "    'SMED30011970':'eye and head',\n",
    "    'SMED30030642':'pharynx',\n",
    "    'SMED30001882':'brain and phx',\n",
    "    'SMED30005457':'big cells-gut(++)',\n",
    "    'SMED30000013':'gut',\n",
    "    'SMED30010123':'protonephridia',\n",
    "    'SMED30016244':'secretory cells',\n",
    "    'SMED30011490':'epithelium'\n",
    "}"
   ]
  },
  {
   "cell_type": "code",
   "execution_count": null,
   "metadata": {},
   "outputs": [],
   "source": [
    "# plot some genes\n",
    "gene_list_to_plot = [\n",
    "    'SMED30011970', #eye and head, dd_4427\n",
    "    'SMED30030642', #pharynx\n",
    "    'SMED30001882',#brain and phx\n",
    "    'SMED30005457', #super strong; big cells around the gut\n",
    "    'SMED30000013', #gut\n",
    "    'SMED30010123', #protonephridia\n",
    "    'SMED30016244', #secretory cells?\n",
    "    'SMED30011490', #epithelium     \n",
    "]\n",
    "list_marker = [g in tissue.gene_names for g in gene_list_to_plot]\n",
    "list_index = np.nonzero(list_marker)[0]\n",
    "gene_list_to_plot = [gene_list_to_plot[i] for i in list_index]"
   ]
  },
  {
   "cell_type": "code",
   "execution_count": null,
   "metadata": {},
   "outputs": [],
   "source": [
    "mylen=len(gene_list_to_plot)\n",
    "plt.figure(figsize=(2*mylen,6),facecolor='grey')\n",
    "\n",
    "for i in range(len(gene_list_to_plot)):\n",
    "        plt.subplot(1,mylen,i+1)        \n",
    "        expr_val = sdge[np.argwhere(gene_names == gene_list_to_plot[i])[0], :].flatten()        \n",
    "        plt.scatter(location_3d[:, 0], location_3d[:, 1], c=expr_val, s=3)\n",
    "        plt.title(gene_dict[gene_list_to_plot[i]])\n",
    "        plt.axis('off')\n",
    "plt.show()"
   ]
  },
  {
   "cell_type": "code",
   "execution_count": null,
   "metadata": {},
   "outputs": [],
   "source": []
  },
  {
   "cell_type": "markdown",
   "metadata": {},
   "source": [
    "### show input markers's perdiction"
   ]
  },
  {
   "cell_type": "code",
   "execution_count": null,
   "metadata": {},
   "outputs": [],
   "source": [
    "ig_marker = [ig in gene_names for ig in insitu_genes]\n",
    "ig_index = np.nonzero(ig_marker)[0]\n",
    "ig_list_to_plot = [insitu_genes[i] for i in ig_index]"
   ]
  },
  {
   "cell_type": "code",
   "execution_count": null,
   "metadata": {},
   "outputs": [],
   "source": [
    "mylen=len(ig_list_to_plot) +1\n",
    "plt.figure(figsize=(2*mylen,6),facecolor='grey')\n",
    "for i in range(mylen -1):\n",
    "        plt.subplot(1,mylen,i+1)        \n",
    "        expr_val = sdge[np.argwhere(gene_names == ig_list_to_plot[i])[0], :].flatten()        \n",
    "        plt.scatter(location_3d[:, 0], location_3d[:, 1], c=expr_val, s=3)\n",
    "        plt.title(ig_list_to_plot[i])\n",
    "        plt.axis('off')\n",
    "plt.show()"
   ]
  },
  {
   "cell_type": "code",
   "execution_count": null,
   "metadata": {},
   "outputs": [],
   "source": [
    "fig = plt.figure(figsize=(6,6))\n",
    "ax = Axes3D(fig,facecolor='k')\n",
    "ax.set_xlim([0,figsize])\n",
    "ax.set_ylim([0,figsize])\n",
    "ax.set_zlim([0,figsize])\n",
    "expr_val = sdge[np.argwhere(gene_names == ig_list_to_plot[0])[0], :].flatten()\n",
    "x = location_3d[:,0]\n",
    "y = location_3d[:,1]\n",
    "z = location_3d[:,2]\n",
    "ax.scatter(x,y,z,c=expr_val,s=1)#\n",
    "plt.show()\n",
    "print(ig_list_to_plot[0])"
   ]
  },
  {
   "cell_type": "code",
   "execution_count": null,
   "metadata": {},
   "outputs": [],
   "source": [
    "fig = plt.figure(figsize=(6,6))\n",
    "ax = Axes3D(fig,facecolor='k')\n",
    "ax.set_xlim([0,figsize])\n",
    "ax.set_ylim([0,figsize])\n",
    "ax.set_zlim([0,figsize])\n",
    "expr_val = sdge[np.argwhere(gene_names == ig_list_to_plot[1])[0], :].flatten()\n",
    "x = location_3d[:,0]\n",
    "y = location_3d[:,1]\n",
    "z = location_3d[:,2]\n",
    "ax.scatter(x,y,z,c=expr_val,s=1)#\n",
    "plt.show()\n",
    "print(ig_list_to_plot[1])"
   ]
  },
  {
   "cell_type": "code",
   "execution_count": null,
   "metadata": {},
   "outputs": [],
   "source": []
  },
  {
   "cell_type": "code",
   "execution_count": null,
   "metadata": {},
   "outputs": [],
   "source": []
  },
  {
   "cell_type": "code",
   "execution_count": null,
   "metadata": {},
   "outputs": [],
   "source": []
  },
  {
   "cell_type": "markdown",
   "metadata": {},
   "source": [
    "### double check raw inputs"
   ]
  },
  {
   "cell_type": "code",
   "execution_count": null,
   "metadata": {},
   "outputs": [],
   "source": [
    "fig = plt.figure(figsize=(6,6))\n",
    "ax = Axes3D(fig,facecolor='k')\n",
    "ax.set_xlim([0,figsize])\n",
    "ax.set_ylim([0,figsize])\n",
    "ax.set_zlim([0,figsize])\n",
    "\n",
    "expr_val = atlas_matrix[:,0] #\n",
    "x = location_3d[:,0]\n",
    "y = location_3d[:,1]\n",
    "z = location_3d[:,2]\n",
    "ax.scatter(x,y,z,c=expr_val,s=1)#\n",
    "plt.show()"
   ]
  },
  {
   "cell_type": "code",
   "execution_count": null,
   "metadata": {},
   "outputs": [],
   "source": [
    "fig = plt.figure(figsize=(6,6))\n",
    "ax = Axes3D(fig,facecolor='k')\n",
    "ax.set_xlim([0,figsize])\n",
    "ax.set_ylim([0,figsize])\n",
    "ax.set_zlim([0,figsize])\n",
    "\n",
    "expr_val = atlas_matrix[:,1] #\n",
    "x = location_3d[:,0]\n",
    "y = location_3d[:,1]\n",
    "z = location_3d[:,2]\n",
    "ax.scatter(x,y,z,c=expr_val,s=1)#\n",
    "plt.show()"
   ]
  },
  {
   "cell_type": "code",
   "execution_count": null,
   "metadata": {},
   "outputs": [],
   "source": [
    "# to show status of the input atlas\n",
    "mylen=len(ig_list_to_plot) +1\n",
    "plt.figure(figsize=(2*mylen,6),facecolor='grey')\n",
    "for i in range(mylen-1):\n",
    "        plt.subplot(1,mylen,i+1)        \n",
    "        expr_val = atlas_matrix[:,i]       \n",
    "        plt.scatter(location_3d[:, 0], location_3d[:, 1], c=expr_val, s=3)\n",
    "        plt.title(ig_list_to_plot[i])\n",
    "        plt.axis('off')\n",
    "plt.show()"
   ]
  },
  {
   "cell_type": "code",
   "execution_count": null,
   "metadata": {},
   "outputs": [],
   "source": []
  },
  {
   "cell_type": "code",
   "execution_count": null,
   "metadata": {},
   "outputs": [],
   "source": []
  },
  {
   "cell_type": "code",
   "execution_count": null,
   "metadata": {},
   "outputs": [],
   "source": []
  }
 ],
 "metadata": {
  "kernelspec": {
   "display_name": "Python 3",
   "language": "python",
   "name": "python3"
  },
  "language_info": {
   "codemirror_mode": {
    "name": "ipython",
    "version": 3
   },
   "file_extension": ".py",
   "mimetype": "text/x-python",
   "name": "python",
   "nbconvert_exporter": "python",
   "pygments_lexer": "ipython3",
   "version": "3.7.4"
  }
 },
 "nbformat": 4,
 "nbformat_minor": 4
}
