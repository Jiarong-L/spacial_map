{
 "cells": [
  {
   "cell_type": "code",
   "execution_count": 1,
   "metadata": {},
   "outputs": [],
   "source": [
    "import cv2\n",
    "import numpy as np\n",
    "import matplotlib.pyplot as plt\n",
    "from skimage import morphology\n",
    "%matplotlib inline"
   ]
  },
  {
   "cell_type": "code",
   "execution_count": 2,
   "metadata": {},
   "outputs": [],
   "source": [
    "from myfunc import clip_background,cv2plot,set_borders_zero,resize_by_ratio,morph_line"
   ]
  },
  {
   "cell_type": "markdown",
   "metadata": {},
   "source": [
    "### load src image"
   ]
  },
  {
   "cell_type": "code",
   "execution_count": 8,
   "metadata": {},
   "outputs": [],
   "source": [
    "# SMED30004894.jpg\n",
    "# SMED30006949\n",
    "# SMED30033119\n",
    "# SMED30021202\n",
    "# 参考了https://blog.csdn.net/weixin_44524040/article/details/90350701\n",
    "# 不过我稍微改了一下绿色的比例。。"
   ]
  },
  {
   "cell_type": "code",
   "execution_count": 9,
   "metadata": {},
   "outputs": [],
   "source": [
    "src = cv2.imread('SMED30021202.jpg')\n",
    "cv2plot(src,'src')"
   ]
  },
  {
   "cell_type": "markdown",
   "metadata": {},
   "source": [
    "### Extract Fish image"
   ]
  },
  {
   "cell_type": "code",
   "execution_count": 10,
   "metadata": {},
   "outputs": [
    {
     "data": {
      "text/plain": [
       "array([-0.,  1.], dtype=float32)"
      ]
     },
     "execution_count": 10,
     "metadata": {},
     "output_type": "execute_result"
    }
   ],
   "source": [
    "fsrc = np.array(src, dtype=np.float32) / 255.0\n",
    "(b, g, r) = cv2.split(fsrc)\n",
    "gray = 1 * g - b - r\n",
    "# select values between 0 1\n",
    "res = np.clip(gray, 0, 1)\n",
    "\n",
    "# 数值大于0.x的都设定为1\n",
    "rnd = np.ceil(res-0.5)\n",
    "# cv2plot(rnd,'rnd')\n",
    "np.unique(rnd)"
   ]
  },
  {
   "cell_type": "markdown",
   "metadata": {},
   "source": [
    "###  now clip body shape "
   ]
  },
  {
   "cell_type": "code",
   "execution_count": 11,
   "metadata": {},
   "outputs": [],
   "source": [
    "b1 = np.clip(b, 0, 1)\n",
    "b2 = np.ceil(b1-0.5)\n",
    "# cv2plot(b2,'b2')\n",
    "# np.unique(b2)"
   ]
  },
  {
   "cell_type": "code",
   "execution_count": 12,
   "metadata": {},
   "outputs": [
    {
     "data": {
      "text/plain": [
       "1"
      ]
     },
     "execution_count": 12,
     "metadata": {},
     "output_type": "execute_result"
    }
   ],
   "source": [
    "len(np.argwhere(b2[0]==1))"
   ]
  },
  {
   "cell_type": "code",
   "execution_count": 13,
   "metadata": {},
   "outputs": [],
   "source": [
    "# set first&last 3 row&col as 0\n",
    "\n",
    "b2 = set_borders_zero(b2,3)"
   ]
  },
  {
   "cell_type": "code",
   "execution_count": 14,
   "metadata": {},
   "outputs": [],
   "source": [
    "kernel = np.ones((30, 30), np.uint8)   # or cv2.morphologyEx(b2, cv2.MORPH_CLOSE, kernel)\n",
    "\n",
    "# 虚线膨胀链接\n",
    "d_im = cv2.dilate(b2, kernel, iterations=1)   #b2 已经二值化\n",
    "\n",
    "#Todo:取中线/骨架\n",
    "d_im = morphology.skeletonize(d_im).astype(np.float32)\n",
    "\n",
    "# 填充\n",
    "mymask = np.zeros((d_im.shape[0]+2,d_im.shape[1]+2))\n",
    "mymask = np.mat(mymask,np.uint8)\n",
    "d_im = cv2.floodFill(d_im,mymask,(0,0),1)[1] #图像左上角开始，大背景填充1\n",
    "\n",
    "#线条圆润\n",
    "for i in range(5):\n",
    "    d_im = cv2.medianBlur(d_im, 5)\n",
    "    d_im = cv2.GaussianBlur(d_im,(5,5),0)\n",
    "\n",
    "#二值化-if blurred\n",
    "d_im = np.ceil(d_im-0.5)\n",
    "\n",
    "# cv2plot(d_im,'body shape')"
   ]
  },
  {
   "cell_type": "markdown",
   "metadata": {},
   "source": [
    "### clip lines&rows sums zero & check if is correct"
   ]
  },
  {
   "cell_type": "code",
   "execution_count": 15,
   "metadata": {},
   "outputs": [],
   "source": [
    "# chk = rnd + d_im\n",
    "# cv2plot(chk,'chk')"
   ]
  },
  {
   "cell_type": "code",
   "execution_count": 16,
   "metadata": {},
   "outputs": [],
   "source": [
    "d_im,rnd = clip_background(d_im,rnd,denoise1 = 5,denoise2 = 3)"
   ]
  },
  {
   "cell_type": "code",
   "execution_count": 17,
   "metadata": {},
   "outputs": [],
   "source": [
    "chk = rnd + d_im\n",
    "cv2plot(chk,'chk body shape')"
   ]
  },
  {
   "cell_type": "markdown",
   "metadata": {},
   "source": [
    "### Affine Transformation"
   ]
  },
  {
   "cell_type": "code",
   "execution_count": 18,
   "metadata": {},
   "outputs": [
    {
     "data": {
      "text/plain": [
       "252"
      ]
     },
     "execution_count": 18,
     "metadata": {},
     "output_type": "execute_result"
    }
   ],
   "source": [
    "# load target shape\n",
    "tar = cv2.imread('myday10.png',0)\n",
    "tar = cv2.pyrUp(tar, dstsize=(2 * tar.shape[1], 2 * tar.shape[0]))  # 好像只能2倍增加\n",
    "tar = cv2.pyrUp(tar, dstsize=(2 * tar.shape[1], 2 * tar.shape[0]))  # 好像只能2倍增加\n",
    "tar = tar/255\n",
    "tar = cv2.threshold(tar,0.4,1,cv2.THRESH_BINARY)[1]\n",
    "tar,_ = clip_background(tar,[],denoise1 = 5,denoise2 = 3)\n",
    "len(tar[0])"
   ]
  },
  {
   "cell_type": "code",
   "execution_count": 19,
   "metadata": {},
   "outputs": [],
   "source": [
    "# np.unique(tar)\n",
    "# cv2plot(tar)"
   ]
  },
  {
   "cell_type": "code",
   "execution_count": 20,
   "metadata": {},
   "outputs": [],
   "source": [
    "# resize d_im,rnd to target size\n",
    "d_im = cv2.resize(d_im, (tar.shape[1],tar.shape[0]), interpolation = cv2.INTER_NEAREST)\n",
    "rnd = cv2.resize(rnd, (tar.shape[1],tar.shape[0]), interpolation = cv2.INTER_NEAREST)\n",
    "# cv2plot(rnd+d_im)"
   ]
  },
  {
   "cell_type": "code",
   "execution_count": 21,
   "metadata": {},
   "outputs": [],
   "source": [
    "# extract skeleton -- marked as 1   TODO: 把涡虫摆正拉直\n",
    "src_skl = morphology.skeletonize(d_im*-1+1).astype(np.float32)\n",
    "tar_skl = morphology.skeletonize(tar*-1+1).astype(np.float32)"
   ]
  },
  {
   "cell_type": "code",
   "execution_count": 22,
   "metadata": {
    "scrolled": true
   },
   "outputs": [],
   "source": [
    "# resize it\n",
    "new_d_im = np.ndarray(tar.shape)\n",
    "new_rnd = np.ndarray(tar.shape)\n",
    "for i in range(len(tar)):\n",
    "    morph,submorph = morph_line(d_im[i],rnd[i],tar[i])\n",
    "    new_d_im[i,:]=morph\n",
    "    new_rnd[i,:]=submorph\n",
    "    "
   ]
  },
  {
   "cell_type": "code",
   "execution_count": 23,
   "metadata": {},
   "outputs": [],
   "source": [
    "cv2plot(new_rnd+new_d_im)"
   ]
  },
  {
   "cell_type": "code",
   "execution_count": null,
   "metadata": {},
   "outputs": [],
   "source": []
  },
  {
   "cell_type": "code",
   "execution_count": null,
   "metadata": {},
   "outputs": [],
   "source": []
  },
  {
   "cell_type": "code",
   "execution_count": null,
   "metadata": {},
   "outputs": [],
   "source": []
  },
  {
   "cell_type": "code",
   "execution_count": null,
   "metadata": {},
   "outputs": [],
   "source": []
  },
  {
   "cell_type": "code",
   "execution_count": null,
   "metadata": {},
   "outputs": [],
   "source": []
  }
 ],
 "metadata": {
  "kernelspec": {
   "display_name": "Python 3",
   "language": "python",
   "name": "python3"
  },
  "language_info": {
   "codemirror_mode": {
    "name": "ipython",
    "version": 3
   },
   "file_extension": ".py",
   "mimetype": "text/x-python",
   "name": "python",
   "nbconvert_exporter": "python",
   "pygments_lexer": "ipython3",
   "version": "3.7.4"
  }
 },
 "nbformat": 4,
 "nbformat_minor": 2
}
